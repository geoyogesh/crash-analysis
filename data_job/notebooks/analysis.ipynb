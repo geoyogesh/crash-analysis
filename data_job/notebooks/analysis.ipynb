{
 "metadata": {
  "language_info": {
   "codemirror_mode": {
    "name": "ipython",
    "version": 3
   },
   "file_extension": ".py",
   "mimetype": "text/x-python",
   "name": "python",
   "nbconvert_exporter": "python",
   "pygments_lexer": "ipython3",
   "version": "3.8.6"
  },
  "orig_nbformat": 2,
  "kernelspec": {
   "name": "python3",
   "display_name": "Python 3.8.6 64-bit ('geo_env': conda)",
   "metadata": {
    "interpreter": {
     "hash": "e1bb13240cb656712ddfc59e4a64e4382713484b8773cbfbe87d50e1684b693c"
    }
   }
  }
 },
 "nbformat": 4,
 "nbformat_minor": 2,
 "cells": [
  {
   "cell_type": "code",
   "execution_count": null,
   "metadata": {},
   "outputs": [],
   "source": [
    "import geopandas as gp"
   ]
  },
  {
   "cell_type": "code",
   "execution_count": null,
   "metadata": {},
   "outputs": [],
   "source": [
    "cua_feather = gp.read_feather(r'../output/Census_Urban_Areas_index.feather')\n",
    "crash_feather = gp.read_feather(r'../output/Crash_index.feather')\n",
    "district_feather = gp.read_feather(r'../output/VDOT_Districts_index.feather')"
   ]
  },
  {
   "cell_type": "code",
   "execution_count": null,
   "metadata": {},
   "outputs": [],
   "source": [
    "district_feather.head(2)"
   ]
  },
  {
   "cell_type": "code",
   "execution_count": null,
   "metadata": {},
   "outputs": [],
   "source": [
    "crash_feather.head()"
   ]
  },
  {
   "cell_type": "code",
   "execution_count": null,
   "metadata": {},
   "outputs": [],
   "source": [
    "crash_feather.dtypes"
   ]
  },
  {
   "cell_type": "code",
   "execution_count": null,
   "metadata": {},
   "outputs": [],
   "source": [
    "# Count crash by district and year\n",
    "district_crash_year = gp.sjoin(district_feather, crash_feather).groupby(['district_code', 'crash_year']).size().reset_index()\n",
    "district_crash_year.head()"
   ]
  },
  {
   "cell_type": "code",
   "execution_count": null,
   "metadata": {},
   "outputs": [],
   "source": [
    "district_crash_year = district_crash_year.rename(columns={0: 'crash_count'})"
   ]
  },
  {
   "cell_type": "code",
   "execution_count": null,
   "metadata": {},
   "outputs": [],
   "source": [
    "district_crash_year"
   ]
  },
  {
   "cell_type": "code",
   "execution_count": null,
   "metadata": {},
   "outputs": [],
   "source": [
    "# Count crash by district\n",
    "intersection_cnt = gp.sjoin(district_feather, crash_feather).groupby('district_code').size().reset_index()\n",
    "intersection_cnt.head()"
   ]
  },
  {
   "cell_type": "code",
   "execution_count": null,
   "metadata": {},
   "outputs": [],
   "source": [
    "# Merge with district and plot\n",
    "intersection_cnt = intersection_cnt.rename(columns={0: 'crash_count'})\n",
    "district_feather = district_feather.merge(intersection_cnt, on='district_code')\n",
    "district_feather"
   ]
  },
  {
   "cell_type": "code",
   "execution_count": null,
   "metadata": {},
   "outputs": [],
   "source": [
    "district_feather.plot(column='crash_count', cmap='Blues', linewidth=0.8, edgecolor='0.8')"
   ]
  },
  {
   "cell_type": "code",
   "execution_count": null,
   "metadata": {},
   "outputs": [],
   "source": [
    "cua_feather.head()"
   ]
  },
  {
   "cell_type": "code",
   "execution_count": null,
   "metadata": {},
   "outputs": [],
   "source": [
    "# Count crash by cencus bloack area\n",
    "cua_crash_cnt = gp.sjoin(cua_feather, crash_feather).groupby('uace10').size().reset_index()\n",
    "cua_crash_cnt = cua_crash_cnt.rename(columns={0: 'crash_count'})\n",
    "cua_feather = cua_feather.merge(cua_crash_cnt, on='uace10')\n",
    "cua_feather.plot(column='crash_count', cmap='Blues', linewidth=0.8, edgecolor='0.8')"
   ]
  },
  {
   "cell_type": "code",
   "execution_count": null,
   "metadata": {},
   "outputs": [],
   "source": [
    "mpo = gp.read_feather(r'../output/MPO_Study_Areas_index.feather')\n",
    "mpo.head()"
   ]
  },
  {
   "cell_type": "code",
   "execution_count": null,
   "metadata": {},
   "outputs": [],
   "source": [
    "mpo"
   ]
  },
  {
   "cell_type": "code",
   "execution_count": null,
   "metadata": {},
   "outputs": [],
   "source": [
    "# Count crash by mpo\n",
    "mpo_crash_cnt = gp.sjoin(mpo, crash_feather).groupby('mpo_id').size().reset_index()\n",
    "mpo_crash_cnt = mpo_crash_cnt.rename(columns={0: 'crash_count'})\n",
    "mpo = mpo.merge(mpo_crash_cnt, on='mpo_id')\n",
    "mpo.plot(column='crash_count', cmap='Blues', linewidth=0.8, edgecolor='0.8')"
   ]
  },
  {
   "cell_type": "code",
   "execution_count": null,
   "metadata": {},
   "outputs": [],
   "source": [
    "import plotly.express as px"
   ]
  },
  {
   "cell_type": "code",
   "execution_count": null,
   "metadata": {},
   "outputs": [],
   "source": [
    "import json\n",
    "json.loads(district_feather.to_json()).keys()"
   ]
  },
  {
   "cell_type": "code",
   "execution_count": null,
   "metadata": {},
   "outputs": [],
   "source": [
    "fig = px.choropleth_mapbox(geojson=json.loads(district_feather.to_json()), locations=district_feather.district_code, color=district_feather.crash_count,\n",
    "hover_name=district_feather.district_name,\n",
    "                           #color_continuous_scale=\"Viridis\",\n",
    "                           range_color=(0, district_feather['crash_count'].max()),\n",
    "                           mapbox_style=\"carto-positron\",\n",
    "                           zoom=5, center = {\"lat\": 37.4316, \"lon\": -78.6569},\n",
    "                           opacity=0.5,\n",
    "                           color_continuous_scale='blues',\n",
    "                           labels={'crash_count':'crash count'},\n",
    "                           title='District Crash Count'\n",
    "                          )\n",
    "fig.update_layout(margin={\"r\":0,\"t\":0,\"l\":0,\"b\":0})\n",
    "fig.show()"
   ]
  },
  {
   "source": [
    "district count animation by year"
   ],
   "cell_type": "markdown",
   "metadata": {}
  },
  {
   "cell_type": "code",
   "execution_count": null,
   "metadata": {},
   "outputs": [],
   "source": [
    "district_json = json.loads(district_feather.to_json())"
   ]
  },
  {
   "cell_type": "code",
   "execution_count": null,
   "metadata": {},
   "outputs": [],
   "source": [
    "fig = px.choropleth_mapbox(district_crash_year, geojson=district_json, locations='district_code', color='crash_count',\n",
    "                           #color_continuous_scale=\"Viridis\",\n",
    "                           range_color=(0, district_crash_year['crash_count'].max()),\n",
    "                           featureidkey=\"properties.district_code\",\n",
    "                           mapbox_style=\"carto-positron\",\n",
    "                           zoom=5, center = {\"lat\": 37.4316, \"lon\": -78.6569},\n",
    "                           opacity=0.5,\n",
    "                           color_continuous_scale='blues',\n",
    "                           labels={'crash_count':'crash count'},\n",
    "                           title='District Crash Count',\n",
    "                           animation_frame='crash_year'\n",
    "                          )\n",
    "fig.update_layout(margin={\"r\":0,\"t\":0,\"l\":0,\"b\":0})\n",
    "fig.show()"
   ]
  },
  {
   "cell_type": "code",
   "execution_count": null,
   "metadata": {},
   "outputs": [],
   "source": []
  }
 ]
}